{
 "cells": [
  {
   "cell_type": "markdown",
   "metadata": {},
   "source": [
    "# part1: tensorflow\n"
   ]
  },
  {
   "cell_type": "code",
   "execution_count": 14,
   "metadata": {},
   "outputs": [
    {
     "name": "stdout",
     "output_type": "stream",
     "text": [
      "Tensorflow Version:2.3.1\n",
      "WARNING:tensorflow:From <ipython-input-14-3b357cdfea74>:4: is_gpu_available (from tensorflow.python.framework.test_util) is deprecated and will be removed in a future version.\n",
      "Instructions for updating:\n",
      "Use `tf.config.list_physical_devices('GPU')` instead.\n",
      "True\n"
     ]
    }
   ],
   "source": [
    "import tensorflow as tf\n",
    "\n",
    "print('Tensorflow Version:{}'.format(tf.__version__))\n",
    "print(tf.test.is_gpu_available())"
   ]
  },
  {
   "cell_type": "markdown",
   "metadata": {},
   "source": [
    "# part2: opencv"
   ]
  },
  {
   "cell_type": "code",
   "execution_count": 17,
   "metadata": {},
   "outputs": [],
   "source": [
    "import cv2 as cv"
   ]
  },
  {
   "cell_type": "code",
   "execution_count": 18,
   "metadata": {},
   "outputs": [],
   "source": [
    "img1 = cv.imread(\"pic1.jpg\")\n",
    "img2 = cv.imread(\"pic2.jpg\")"
   ]
  },
  {
   "cell_type": "code",
   "execution_count": 21,
   "metadata": {},
   "outputs": [
    {
     "data": {
      "text/plain": [
       "array([[[240, 231, 194],\n",
       "        [240, 231, 194],\n",
       "        [241, 232, 195],\n",
       "        ...,\n",
       "        [241, 226, 180],\n",
       "        [242, 227, 181],\n",
       "        [242, 227, 181]],\n",
       "\n",
       "       [[240, 231, 194],\n",
       "        [240, 231, 194],\n",
       "        [241, 232, 195],\n",
       "        ...,\n",
       "        [241, 226, 180],\n",
       "        [241, 226, 180],\n",
       "        [241, 226, 180]],\n",
       "\n",
       "       [[240, 231, 194],\n",
       "        [241, 232, 195],\n",
       "        [241, 232, 195],\n",
       "        ...,\n",
       "        [240, 225, 179],\n",
       "        [241, 226, 180],\n",
       "        [241, 226, 180]],\n",
       "\n",
       "       ...,\n",
       "\n",
       "       [[235, 215, 167],\n",
       "        [235, 215, 167],\n",
       "        [236, 216, 168],\n",
       "        ...,\n",
       "        [207, 181, 111],\n",
       "        [207, 181, 111],\n",
       "        [207, 181, 111]],\n",
       "\n",
       "       [[236, 216, 168],\n",
       "        [236, 216, 168],\n",
       "        [236, 216, 168],\n",
       "        ...,\n",
       "        [208, 182, 112],\n",
       "        [208, 182, 112],\n",
       "        [207, 181, 111]],\n",
       "\n",
       "       [[237, 217, 169],\n",
       "        [237, 217, 169],\n",
       "        [237, 217, 169],\n",
       "        ...,\n",
       "        [208, 182, 112],\n",
       "        [208, 182, 112],\n",
       "        [208, 182, 112]]], dtype=uint8)"
      ]
     },
     "execution_count": 21,
     "metadata": {},
     "output_type": "execute_result"
    }
   ],
   "source": [
    "W = 3.752\n",
    "H = 4.382\n",
    "L = 8.342\n",
    "W = round(W, 2)   # round函数将W保留两位小数\n",
    "H = round(H, 2)\n",
    "L = round(L, 2)\n",
    "text = \"W:\"+str(W)+\" \" + \"H:\"+str(H) + \" \" + \"L:\"+str(L)  \n",
    "cv.putText(img1, text, (40, 50), cv.FONT_HERSHEY_PLAIN, 2.0, (0, 0, 255), 2) "
   ]
  },
  {
   "cell_type": "code",
   "execution_count": 22,
   "metadata": {},
   "outputs": [],
   "source": [
    "cv.imshow(\"image show\",img1)"
   ]
  },
  {
   "cell_type": "code",
   "execution_count": 25,
   "metadata": {},
   "outputs": [
    {
     "data": {
      "text/plain": [
       "164"
      ]
     },
     "execution_count": 25,
     "metadata": {},
     "output_type": "execute_result"
    }
   ],
   "source": [
    "cv.waitKey(0)"
   ]
  },
  {
   "cell_type": "code",
   "execution_count": 26,
   "metadata": {},
   "outputs": [
    {
     "data": {
      "text/plain": [
       "True"
      ]
     },
     "execution_count": 26,
     "metadata": {},
     "output_type": "execute_result"
    }
   ],
   "source": [
    "cv.imwrite('lena.png',img1)"
   ]
  },
  {
   "cell_type": "code",
   "execution_count": 27,
   "metadata": {},
   "outputs": [],
   "source": [
    "cv.destroyAllWindows()"
   ]
  },
  {
   "cell_type": "markdown",
   "metadata": {},
   "source": [
    "# part3: pytorch"
   ]
  },
  {
   "cell_type": "code",
   "execution_count": 1,
   "metadata": {},
   "outputs": [
    {
     "name": "stdout",
     "output_type": "stream",
     "text": [
      "True\n"
     ]
    }
   ],
   "source": [
    "import torch\n",
    "\n",
    "print(torch.cuda.is_available()) # 查看系统GPU是否可以使用，经常用来判断是否装好gpu版的pytorch\n"
   ]
  },
  {
   "cell_type": "code",
   "execution_count": 2,
   "metadata": {},
   "outputs": [
    {
     "name": "stdout",
     "output_type": "stream",
     "text": [
      "0\n"
     ]
    }
   ],
   "source": [
    "print(torch.cuda.current_device())# 返回当前设备序号\n"
   ]
  },
  {
   "cell_type": "code",
   "execution_count": 3,
   "metadata": {},
   "outputs": [
    {
     "name": "stdout",
     "output_type": "stream",
     "text": [
      "GeForce RTX 2070 with Max-Q Design\n"
     ]
    }
   ],
   "source": [
    "print(torch.cuda.get_device_name(0))# 返回第0号设备的name\n"
   ]
  },
  {
   "cell_type": "code",
   "execution_count": 4,
   "metadata": {},
   "outputs": [
    {
     "name": "stdout",
     "output_type": "stream",
     "text": [
      "1\n"
     ]
    }
   ],
   "source": [
    "print(torch.cuda.device_count())# 返回可使用的gpu的数量\n"
   ]
  },
  {
   "cell_type": "code",
   "execution_count": 5,
   "metadata": {},
   "outputs": [
    {
     "name": "stdout",
     "output_type": "stream",
     "text": [
      "0\n"
     ]
    }
   ],
   "source": [
    "print(torch.cuda.memory_allocated(device=\"cuda:0\"))#返回0号设备的当前GPU显存使用量(以字节为单位）"
   ]
  },
  {
   "cell_type": "code",
   "execution_count": 6,
   "metadata": {},
   "outputs": [
    {
     "name": "stdout",
     "output_type": "stream",
     "text": [
      "True\n",
      "True\n"
     ]
    }
   ],
   "source": [
    "#判断是否安装了cuda\n",
    "import torch\n",
    "print(torch.cuda.is_available())  #返回True则说明已经安装了cuda\n",
    "#判断是否安装了cuDNN\n",
    "from torch.backends import  cudnn \n",
    "print(cudnn.is_available())  #返回True则说明已经安装了cuDNN"
   ]
  },
  {
   "cell_type": "markdown",
   "metadata": {},
   "source": [
    "# part4: CPU与GPU的计算能力对比"
   ]
  },
  {
   "cell_type": "code",
   "execution_count": 45,
   "metadata": {},
   "outputs": [
    {
     "name": "stdout",
     "output_type": "stream",
     "text": [
      "python的版本信息： 3.8.5 (default, Sep  3 2020, 21:29:08) [MSC v.1916 64 bit (AMD64)]\n"
     ]
    }
   ],
   "source": [
    "# 屏蔽tensorflow输出的log信息\n",
    "# 注意：代码在import tensorflow之前\n",
    "import os\n",
    "os.environ[\"TF_CPP_MIN_LOG_LEVEL\"] = \"2\"\n",
    "\n",
    "import sys\n",
    "print(\"python的版本信息：\",sys.version)\n",
    "#python的版本信息： 3.7.9 (default, Aug 31 2020, 17:10:11) [MSC v.1916 64 bit (AMD64)]\n",
    "\n",
    "import tensorflow as tf\n",
    "\n",
    "'''\n",
    "验证GPU相对于CPU,在并行计算优势明显\n",
    "'''\n",
    "n=100000000 #1亿次  （2亿次 会发生内存分配OOM ）"
   ]
  },
  {
   "cell_type": "code",
   "execution_count": 46,
   "metadata": {},
   "outputs": [
    {
     "name": "stdout",
     "output_type": "stream",
     "text": [
      "/job:localhost/replica:0/task:0/device:CPU:0 /job:localhost/replica:0/task:0/device:CPU:0\n"
     ]
    }
   ],
   "source": [
    "# 创建在CPU环境上运算的 2 个矩阵\n",
    "with tf.device('/cpu:0'):\n",
    "    cpu_a = tf.random.normal([1, n])\n",
    "    cpu_b = tf.random.normal([n, 1])\n",
    "    print(cpu_a.device, cpu_b.device) "
   ]
  },
  {
   "cell_type": "code",
   "execution_count": 47,
   "metadata": {},
   "outputs": [
    {
     "data": {
      "text/plain": [
       "'/job:localhost/replica:0/task:0/device:CPU:0'"
      ]
     },
     "execution_count": 47,
     "metadata": {},
     "output_type": "execute_result"
    }
   ],
   "source": [
    "cpu_b.device"
   ]
  },
  {
   "cell_type": "code",
   "execution_count": 48,
   "metadata": {},
   "outputs": [
    {
     "data": {
      "text/plain": [
       "'/job:localhost/replica:0/task:0/device:CPU:0'"
      ]
     },
     "execution_count": 48,
     "metadata": {},
     "output_type": "execute_result"
    }
   ],
   "source": [
    "cpu_a.device"
   ]
  },
  {
   "cell_type": "code",
   "execution_count": 49,
   "metadata": {},
   "outputs": [
    {
     "name": "stdout",
     "output_type": "stream",
     "text": [
      "/job:localhost/replica:0/task:0/device:GPU:0 /job:localhost/replica:0/task:0/device:GPU:0\n"
     ]
    }
   ],
   "source": [
    "# 创建使用 GPU环境运算的 2 个矩阵\n",
    "with tf.device('/gpu:0'):\n",
    "    gpu_a = tf.random.normal([1, n])\n",
    "    gpu_b = tf.random.normal([n, 1])\n",
    "    print(gpu_a.device, gpu_b.device)"
   ]
  },
  {
   "cell_type": "code",
   "execution_count": 50,
   "metadata": {},
   "outputs": [],
   "source": [
    "import timeit\n",
    "def cpu_run(): # CPU 运算函数\n",
    "    with tf.device('/cpu:0'):\n",
    "        c = tf.matmul(cpu_a, cpu_b)\n",
    "    return c\n",
    "def gpu_run():# GPU 运算函数\n",
    "    with tf.device('/gpu:0'):\n",
    "        c = tf.matmul(gpu_a, gpu_b)\n",
    "    return c"
   ]
  },
  {
   "cell_type": "code",
   "execution_count": 51,
   "metadata": {},
   "outputs": [
    {
     "name": "stdout",
     "output_type": "stream",
     "text": [
      "首先计算10次（含热身环境）的平均时间,CPU计算消耗时间：762.062ms,GPU计算消耗时间：0.760ms!\n"
     ]
    }
   ],
   "source": [
    "# 第一次计算需要热身，避免将初始化时间结算在内\n",
    "cpu_time = timeit.timeit(cpu_run, number=10)\n",
    "gpu_time = timeit.timeit(gpu_run, number=10)\n",
    "print('首先计算10次（含热身环境）的平均时间,CPU计算消耗时间：%.3fms,GPU计算消耗时间：%.3fms!'%(cpu_time*1000, gpu_time*1000) )  "
   ]
  },
  {
   "cell_type": "code",
   "execution_count": 52,
   "metadata": {},
   "outputs": [
    {
     "name": "stdout",
     "output_type": "stream",
     "text": [
      "正式计算10次的平均时间,CPU计算消耗时间：735.160ms,GPU计算消耗时间：0.771ms!\n"
     ]
    }
   ],
   "source": [
    "#正式计算10次，取平均时间\n",
    "cpu1_time = timeit.timeit(cpu_run, number=10)\n",
    "gpu1_time = timeit.timeit(gpu_run, number=10)\n",
    "print('正式计算10次的平均时间,CPU计算消耗时间：%.3fms,GPU计算消耗时间：%.3fms!'%(cpu1_time*1000, gpu1_time*1000))"
   ]
  },
  {
   "cell_type": "code",
   "execution_count": 53,
   "metadata": {},
   "outputs": [
    {
     "name": "stdout",
     "output_type": "stream",
     "text": [
      "正式计算10次的平均时间,CPU计算消耗时间：735.160ms,GPU计算消耗时间：0.771ms!\n"
     ]
    }
   ],
   "source": [
    "print('正式计算10次的平均时间,CPU计算消耗时间：%.3fms,GPU计算消耗时间：%.3fms!'%(cpu1_time*1000, gpu1_time*1000))"
   ]
  },
  {
   "cell_type": "markdown",
   "metadata": {},
   "source": [
    "# Part5 : 获取CPU型号"
   ]
  },
  {
   "cell_type": "markdown",
   "metadata": {},
   "source": [
    "psutil是一个跨平台库(http://pythonhosted.org/psutil/)能够轻松实现获取系统运行的进程和系统利用率（包括CPU、内存、磁盘、网络等）信息。它主要用来做系统监控，性能分析，进程管理。它实现了同等命令行工具提供的功能，如ps、top、lsof、netstat、ifconfig、who、df、kill、free、nice、ionice、iostat、iotop、uptime、pidof、tty、taskset、pmap等。目前支持32位和64位的Linux、Windows、OS X、FreeBSD和Sun Solaris等操作系统."
   ]
  },
  {
   "cell_type": "code",
   "execution_count": 54,
   "metadata": {},
   "outputs": [
    {
     "name": "stdout",
     "output_type": "stream",
     "text": [
      "cpu逻辑个数: 12\n",
      "内存总数为: 31. G\n",
      "空闲内存总数: 20. G\n"
     ]
    }
   ],
   "source": [
    "import psutil\n",
    "def get_cpu_info():\n",
    "   cpu1 = psutil.cpu_count()\n",
    "   print(\"cpu逻辑个数:\",cpu1)\n",
    " \n",
    "def get_mem_info():\n",
    "   mem = psutil.virtual_memory()\n",
    "   mem1 = str(mem.total/1024/1024/1024)\n",
    "   mem2 = str(mem.free/1024/1024/1024)\n",
    "   print(\"内存总数为:\",mem1[0:3],\"G\")\n",
    "   print(\"空闲内存总数:\", mem2[0:3], \"G\")\n",
    "\n",
    "get_cpu_info()\n",
    "\n",
    "get_mem_info()"
   ]
  },
  {
   "cell_type": "code",
   "execution_count": 55,
   "metadata": {},
   "outputs": [
    {
     "data": {
      "text/plain": [
       "scputimes(user=40757.34375, system=15451.671875000116, idle=783255.7343749999, interrupt=389.671875, dpc=327.484375)"
      ]
     },
     "execution_count": 55,
     "metadata": {},
     "output_type": "execute_result"
    }
   ],
   "source": [
    "psutil.cpu_times()"
   ]
  },
  {
   "cell_type": "code",
   "execution_count": 56,
   "metadata": {},
   "outputs": [
    {
     "data": {
      "text/plain": [
       "40757.421875"
      ]
     },
     "execution_count": 56,
     "metadata": {},
     "output_type": "execute_result"
    }
   ],
   "source": [
    "psutil.cpu_times().user"
   ]
  },
  {
   "cell_type": "code",
   "execution_count": 57,
   "metadata": {},
   "outputs": [
    {
     "data": {
      "text/plain": [
       "783262.1874999999"
      ]
     },
     "execution_count": 57,
     "metadata": {},
     "output_type": "execute_result"
    }
   ],
   "source": [
    "psutil.cpu_times().idle"
   ]
  },
  {
   "cell_type": "code",
   "execution_count": 58,
   "metadata": {},
   "outputs": [
    {
     "data": {
      "text/plain": [
       "12"
      ]
     },
     "execution_count": 58,
     "metadata": {},
     "output_type": "execute_result"
    }
   ],
   "source": [
    "psutil.cpu_count()"
   ]
  },
  {
   "cell_type": "code",
   "execution_count": 59,
   "metadata": {},
   "outputs": [
    {
     "data": {
      "text/plain": [
       "6"
      ]
     },
     "execution_count": 59,
     "metadata": {},
     "output_type": "execute_result"
    }
   ],
   "source": [
    "psutil.cpu_count(logical=False)"
   ]
  },
  {
   "cell_type": "code",
   "execution_count": 60,
   "metadata": {},
   "outputs": [
    {
     "data": {
      "text/plain": [
       "2.7"
      ]
     },
     "execution_count": 60,
     "metadata": {},
     "output_type": "execute_result"
    }
   ],
   "source": [
    "psutil.cpu_percent(11)"
   ]
  },
  {
   "cell_type": "code",
   "execution_count": 61,
   "metadata": {},
   "outputs": [
    {
     "data": {
      "text/plain": [
       "svmem(total=34172080128, available=21676363776, percent=36.6, used=12495716352, free=21676363776)"
      ]
     },
     "execution_count": 61,
     "metadata": {},
     "output_type": "execute_result"
    }
   ],
   "source": [
    "mem = psutil.virtual_memory()\n",
    "mem"
   ]
  },
  {
   "cell_type": "code",
   "execution_count": 64,
   "metadata": {},
   "outputs": [
    {
     "name": "stdout",
     "output_type": "stream",
     "text": [
      "11.637542724609375\n"
     ]
    }
   ],
   "source": [
    "print(mem.used/1024/1024/1024)"
   ]
  },
  {
   "cell_type": "code",
   "execution_count": 62,
   "metadata": {},
   "outputs": [
    {
     "data": {
      "text/plain": [
       "[sdiskpart(device='C:\\\\', mountpoint='C:\\\\', fstype='NTFS', opts='rw,fixed'),\n",
       " sdiskpart(device='D:\\\\', mountpoint='D:\\\\', fstype='NTFS', opts='rw,fixed'),\n",
       " sdiskpart(device='E:\\\\', mountpoint='E:\\\\', fstype='NTFS', opts='rw,fixed'),\n",
       " sdiskpart(device='F:\\\\', mountpoint='F:\\\\', fstype='NTFS', opts='rw,fixed')]"
      ]
     },
     "execution_count": 62,
     "metadata": {},
     "output_type": "execute_result"
    }
   ],
   "source": [
    "psutil.disk_partitions()"
   ]
  },
  {
   "cell_type": "code",
   "execution_count": 65,
   "metadata": {},
   "outputs": [
    {
     "data": {
      "text/plain": [
       "sdiskusage(total=497786286080, used=120354250752, free=377432035328, percent=24.2)"
      ]
     },
     "execution_count": 65,
     "metadata": {},
     "output_type": "execute_result"
    }
   ],
   "source": [
    "psutil.disk_usage('/')"
   ]
  },
  {
   "cell_type": "code",
   "execution_count": 66,
   "metadata": {},
   "outputs": [
    {
     "data": {
      "text/plain": [
       "sdiskio(read_count=994253, write_count=1390061, read_bytes=44855887360, write_bytes=60040400896, read_time=877, write_time=395)"
      ]
     },
     "execution_count": 66,
     "metadata": {},
     "output_type": "execute_result"
    }
   ],
   "source": [
    "psutil.disk_io_counters()"
   ]
  },
  {
   "cell_type": "code",
   "execution_count": 67,
   "metadata": {},
   "outputs": [
    {
     "data": {
      "text/plain": [
       "{'PhysicalDrive0': sdiskio(read_count=18013, write_count=15437, read_bytes=610082816, write_bytes=390546432, read_time=5, write_time=11),\n",
       " 'PhysicalDrive1': sdiskio(read_count=976244, write_count=1374696, read_bytes=44245858304, write_bytes=59650680832, read_time=872, write_time=384)}"
      ]
     },
     "execution_count": 67,
     "metadata": {},
     "output_type": "execute_result"
    }
   ],
   "source": [
    "psutil.disk_io_counters(perdisk=True)"
   ]
  },
  {
   "cell_type": "code",
   "execution_count": 68,
   "metadata": {},
   "outputs": [
    {
     "data": {
      "text/plain": [
       "snetio(bytes_sent=322675470, bytes_recv=3463981133, packets_sent=1918380, packets_recv=2151830, errin=0, errout=0, dropin=0, dropout=0)"
      ]
     },
     "execution_count": 68,
     "metadata": {},
     "output_type": "execute_result"
    }
   ],
   "source": [
    "psutil.net_io_counters()"
   ]
  },
  {
   "cell_type": "code",
   "execution_count": 69,
   "metadata": {},
   "outputs": [
    {
     "data": {
      "text/plain": [
       "{'以太网': snetio(bytes_sent=0, bytes_recv=0, packets_sent=0, packets_recv=0, errin=0, errout=0, dropin=0, dropout=0),\n",
       " '本地连接* 1': snetio(bytes_sent=0, bytes_recv=0, packets_sent=0, packets_recv=0, errin=0, errout=0, dropin=0, dropout=0),\n",
       " '本地连接* 2': snetio(bytes_sent=0, bytes_recv=0, packets_sent=0, packets_recv=0, errin=0, errout=0, dropin=0, dropout=0),\n",
       " 'WLAN': snetio(bytes_sent=322158304, bytes_recv=3463984235, packets_sent=1915234, packets_recv=2151851, errin=0, errout=0, dropin=0, dropout=0),\n",
       " 'Loopback Pseudo-Interface 1': snetio(bytes_sent=0, bytes_recv=0, packets_sent=0, packets_recv=0, errin=0, errout=0, dropin=0, dropout=0),\n",
       " 'vEthernet (Default Switch)': snetio(bytes_sent=525289, bytes_recv=0, packets_sent=3233, packets_recv=0, errin=0, errout=0, dropin=0, dropout=0)}"
      ]
     },
     "execution_count": 69,
     "metadata": {},
     "output_type": "execute_result"
    }
   ],
   "source": [
    "psutil.net_io_counters(pernic=True)"
   ]
  },
  {
   "cell_type": "code",
   "execution_count": 70,
   "metadata": {},
   "outputs": [
    {
     "data": {
      "text/plain": [
       "1607679611.3299809"
      ]
     },
     "execution_count": 70,
     "metadata": {},
     "output_type": "execute_result"
    }
   ],
   "source": [
    "psutil.boot_time()"
   ]
  },
  {
   "cell_type": "code",
   "execution_count": 72,
   "metadata": {},
   "outputs": [
    {
     "data": {
      "text/plain": [
       "'2020-12-11 17: 40: 11'"
      ]
     },
     "execution_count": 72,
     "metadata": {},
     "output_type": "execute_result"
    }
   ],
   "source": [
    "import datetime\n",
    "datetime.datetime.fromtimestamp(psutil.boot_time ()).strftime(\"%Y-%m-%d %H: %M: %S\")"
   ]
  },
  {
   "cell_type": "code",
   "execution_count": 73,
   "metadata": {},
   "outputs": [
    {
     "data": {
      "text/plain": [
       "[0,\n",
       " 4,\n",
       " 88,\n",
       " 152,\n",
       " 172,\n",
       " 552,\n",
       " 776,\n",
       " 784,\n",
       " 816,\n",
       " 976,\n",
       " 980,\n",
       " 1028,\n",
       " 1048,\n",
       " 1056,\n",
       " 1128,\n",
       " 1196,\n",
       " 1216,\n",
       " 1264,\n",
       " 1280,\n",
       " 1308,\n",
       " 1332,\n",
       " 1428,\n",
       " 1484,\n",
       " 1568,\n",
       " 1668,\n",
       " 1724,\n",
       " 1736,\n",
       " 1748,\n",
       " 1832,\n",
       " 1844,\n",
       " 1860,\n",
       " 1912,\n",
       " 1976,\n",
       " 2004,\n",
       " 2084,\n",
       " 2144,\n",
       " 2196,\n",
       " 2324,\n",
       " 2336,\n",
       " 2356,\n",
       " 2452,\n",
       " 2476,\n",
       " 2484,\n",
       " 2508,\n",
       " 2608,\n",
       " 2632,\n",
       " 2672,\n",
       " 2684,\n",
       " 2692,\n",
       " 2732,\n",
       " 2804,\n",
       " 2812,\n",
       " 2848,\n",
       " 3004,\n",
       " 3088,\n",
       " 3120,\n",
       " 3264,\n",
       " 3272,\n",
       " 3332,\n",
       " 3500,\n",
       " 3596,\n",
       " 3676,\n",
       " 3688,\n",
       " 3756,\n",
       " 3764,\n",
       " 3872,\n",
       " 3884,\n",
       " 3924,\n",
       " 3972,\n",
       " 3988,\n",
       " 4184,\n",
       " 4248,\n",
       " 4256,\n",
       " 4264,\n",
       " 4276,\n",
       " 4300,\n",
       " 4308,\n",
       " 4320,\n",
       " 4328,\n",
       " 4348,\n",
       " 4360,\n",
       " 4404,\n",
       " 4428,\n",
       " 4476,\n",
       " 4488,\n",
       " 4504,\n",
       " 4512,\n",
       " 4520,\n",
       " 4540,\n",
       " 4552,\n",
       " 4560,\n",
       " 4608,\n",
       " 4628,\n",
       " 4700,\n",
       " 4744,\n",
       " 4788,\n",
       " 4796,\n",
       " 4804,\n",
       " 4880,\n",
       " 4972,\n",
       " 5004,\n",
       " 5032,\n",
       " 5148,\n",
       " 5160,\n",
       " 5364,\n",
       " 5376,\n",
       " 5596,\n",
       " 5676,\n",
       " 5680,\n",
       " 5956,\n",
       " 6140,\n",
       " 6224,\n",
       " 6236,\n",
       " 6304,\n",
       " 6336,\n",
       " 6360,\n",
       " 6396,\n",
       " 6432,\n",
       " 6460,\n",
       " 6512,\n",
       " 6636,\n",
       " 6692,\n",
       " 6744,\n",
       " 6900,\n",
       " 6920,\n",
       " 6944,\n",
       " 7060,\n",
       " 7088,\n",
       " 7208,\n",
       " 7216,\n",
       " 7288,\n",
       " 7324,\n",
       " 7376,\n",
       " 7504,\n",
       " 7516,\n",
       " 7584,\n",
       " 7612,\n",
       " 7620,\n",
       " 7916,\n",
       " 7924,\n",
       " 7964,\n",
       " 8000,\n",
       " 8016,\n",
       " 8036,\n",
       " 8052,\n",
       " 8264,\n",
       " 8300,\n",
       " 8332,\n",
       " 8496,\n",
       " 8720,\n",
       " 8744,\n",
       " 8956,\n",
       " 9000,\n",
       " 9092,\n",
       " 9208,\n",
       " 9240,\n",
       " 9264,\n",
       " 9316,\n",
       " 9388,\n",
       " 9476,\n",
       " 9572,\n",
       " 9716,\n",
       " 9752,\n",
       " 9788,\n",
       " 9840,\n",
       " 9972,\n",
       " 9980,\n",
       " 10160,\n",
       " 10244,\n",
       " 10556,\n",
       " 10784,\n",
       " 10948,\n",
       " 11176,\n",
       " 11212,\n",
       " 11484,\n",
       " 11512,\n",
       " 11652,\n",
       " 11660,\n",
       " 11812,\n",
       " 11824,\n",
       " 12032,\n",
       " 12096,\n",
       " 12456,\n",
       " 12460,\n",
       " 12480,\n",
       " 12500,\n",
       " 12676,\n",
       " 12904,\n",
       " 13032,\n",
       " 13072,\n",
       " 13108,\n",
       " 13188,\n",
       " 13196,\n",
       " 13276,\n",
       " 13496,\n",
       " 13556,\n",
       " 13716,\n",
       " 13720,\n",
       " 13828,\n",
       " 13840,\n",
       " 13904,\n",
       " 14032,\n",
       " 14160,\n",
       " 14248,\n",
       " 14432,\n",
       " 14508,\n",
       " 14856,\n",
       " 14868,\n",
       " 15004,\n",
       " 15096,\n",
       " 15180,\n",
       " 15220,\n",
       " 15228,\n",
       " 15252,\n",
       " 15260,\n",
       " 15284,\n",
       " 15292,\n",
       " 15484,\n",
       " 15988,\n",
       " 15996,\n",
       " 16152,\n",
       " 16336,\n",
       " 16356,\n",
       " 16748,\n",
       " 17220,\n",
       " 17312,\n",
       " 17700,\n",
       " 17992,\n",
       " 18128,\n",
       " 18344,\n",
       " 18388,\n",
       " 18448,\n",
       " 18644,\n",
       " 18696,\n",
       " 19204,\n",
       " 19424,\n",
       " 19876,\n",
       " 20088,\n",
       " 20500,\n",
       " 20604,\n",
       " 21212,\n",
       " 21276,\n",
       " 21408,\n",
       " 21452,\n",
       " 21532,\n",
       " 21656,\n",
       " 22096,\n",
       " 22144,\n",
       " 23188,\n",
       " 23676,\n",
       " 23684]"
      ]
     },
     "execution_count": 73,
     "metadata": {},
     "output_type": "execute_result"
    }
   ],
   "source": [
    "psutil.pids()"
   ]
  },
  {
   "cell_type": "code",
   "execution_count": 78,
   "metadata": {},
   "outputs": [
    {
     "data": {
      "text/plain": [
       "'chrome.exe'"
      ]
     },
     "execution_count": 78,
     "metadata": {},
     "output_type": "execute_result"
    }
   ],
   "source": [
    "p = psutil.Process(22096)\n",
    "p.name()      #进程名"
   ]
  },
  {
   "cell_type": "code",
   "execution_count": 79,
   "metadata": {},
   "outputs": [
    {
     "data": {
      "text/plain": [
       "'C:\\\\Program Files\\\\Google\\\\Chrome\\\\Application\\\\chrome.exe'"
      ]
     },
     "execution_count": 79,
     "metadata": {},
     "output_type": "execute_result"
    }
   ],
   "source": [
    "p.exe()         #进程的bin路径 "
   ]
  },
  {
   "cell_type": "code",
   "execution_count": 80,
   "metadata": {},
   "outputs": [
    {
     "data": {
      "text/plain": [
       "'C:\\\\Program Files\\\\Google\\\\Chrome\\\\Application\\\\87.0.4280.88'"
      ]
     },
     "execution_count": 80,
     "metadata": {},
     "output_type": "execute_result"
    }
   ],
   "source": [
    "p.cwd()        #进程的工作目录绝对路径"
   ]
  },
  {
   "cell_type": "code",
   "execution_count": 81,
   "metadata": {},
   "outputs": [
    {
     "data": {
      "text/plain": [
       "'running'"
      ]
     },
     "execution_count": 81,
     "metadata": {},
     "output_type": "execute_result"
    }
   ],
   "source": [
    "p.status()     #进程状态"
   ]
  },
  {
   "cell_type": "code",
   "execution_count": 82,
   "metadata": {},
   "outputs": [
    {
     "data": {
      "text/plain": [
       "1607743719.037675"
      ]
     },
     "execution_count": 82,
     "metadata": {},
     "output_type": "execute_result"
    }
   ],
   "source": [
    "p.create_time()  #进程创建时间"
   ]
  },
  {
   "cell_type": "code",
   "execution_count": 83,
   "metadata": {},
   "outputs": [
    {
     "data": {
      "text/plain": [
       "pcputimes(user=7.0, system=3.328125, children_user=0.0, children_system=0.0)"
      ]
     },
     "execution_count": 83,
     "metadata": {},
     "output_type": "execute_result"
    }
   ],
   "source": [
    "p.cpu_times()    #进程的cpu时间信息,包括user,system两个cpu信息"
   ]
  },
  {
   "cell_type": "code",
   "execution_count": 84,
   "metadata": {},
   "outputs": [
    {
     "data": {
      "text/plain": [
       "[0, 1, 2, 3, 4, 5, 6, 7, 8, 9, 10, 11]"
      ]
     },
     "execution_count": 84,
     "metadata": {},
     "output_type": "execute_result"
    }
   ],
   "source": [
    "p.cpu_affinity()  #get进程cpu亲和度,如果要设置cpu亲和度,将cpu号作为参考就好"
   ]
  },
  {
   "cell_type": "code",
   "execution_count": 85,
   "metadata": {},
   "outputs": [
    {
     "data": {
      "text/plain": [
       "0.1135111466867271"
      ]
     },
     "execution_count": 85,
     "metadata": {},
     "output_type": "execute_result"
    }
   ],
   "source": [
    "p.memory_percent()  #进程内存利用率"
   ]
  },
  {
   "cell_type": "code",
   "execution_count": 86,
   "metadata": {},
   "outputs": [
    {
     "data": {
      "text/plain": [
       "pmem(rss=38776832, vms=25415680, num_page_faults=54377, peak_wset=47214592, wset=38776832, peak_paged_pool=653664, paged_pool=511104, peak_nonpaged_pool=1012976, nonpaged_pool=25376, pagefile=25415680, peak_pagefile=29818880, private=25415680)"
      ]
     },
     "execution_count": 86,
     "metadata": {},
     "output_type": "execute_result"
    }
   ],
   "source": [
    "p.memory_info()    #进程内存rss,vms信息"
   ]
  },
  {
   "cell_type": "code",
   "execution_count": 87,
   "metadata": {},
   "outputs": [
    {
     "data": {
      "text/plain": [
       "pio(read_count=121520, write_count=184112, read_bytes=58240784, write_bytes=105020793, other_count=81042, other_bytes=1416021)"
      ]
     },
     "execution_count": 87,
     "metadata": {},
     "output_type": "execute_result"
    }
   ],
   "source": [
    "p.io_counters()    #进程的IO信息,包括读写IO数字及参数"
   ]
  },
  {
   "cell_type": "code",
   "execution_count": 89,
   "metadata": {},
   "outputs": [
    {
     "data": {
      "text/plain": [
       "15"
      ]
     },
     "execution_count": 89,
     "metadata": {},
     "output_type": "execute_result"
    }
   ],
   "source": [
    "p.num_threads()  #进程开启的线程数"
   ]
  },
  {
   "cell_type": "code",
   "execution_count": 90,
   "metadata": {},
   "outputs": [
    {
     "ename": "SyntaxError",
     "evalue": "invalid character in identifier (<ipython-input-90-b7d145a1a814>, line 1)",
     "output_type": "error",
     "traceback": [
      "\u001b[1;36m  File \u001b[1;32m\"<ipython-input-90-b7d145a1a814>\"\u001b[1;36m, line \u001b[1;32m1\u001b[0m\n\u001b[1;33m    听过psutil的Popen方法启动应用程序，可以跟踪程序的相关信息\u001b[0m\n\u001b[1;37m                                     ^\u001b[0m\n\u001b[1;31mSyntaxError\u001b[0m\u001b[1;31m:\u001b[0m invalid character in identifier\n"
     ]
    }
   ],
   "source": [
    "听过psutil的Popen方法启动应用程序，可以跟踪程序的相关信息\n",
    "from subprocess import PIPE\n",
    "p = psutil.Popen([\"/usr/bin/python\", \"-c\", \"print('hello')\"],stdout=PIPE)\n",
    "p.name()\n",
    "p.username()"
   ]
  },
  {
   "cell_type": "code",
   "execution_count": 92,
   "metadata": {},
   "outputs": [
    {
     "name": "stdout",
     "output_type": "stream",
     "text": [
      "2020-12-12-17:31:25\n"
     ]
    }
   ],
   "source": [
    "import time\n",
    "now_time = time.strftime('%Y-%m-%d-%H:%M:%S', time.localtime(time.time()))\n",
    "print(now_time)"
   ]
  },
  {
   "cell_type": "code",
   "execution_count": 93,
   "metadata": {},
   "outputs": [
    {
     "name": "stdout",
     "output_type": "stream",
     "text": [
      "进程名 System Idle Process   内存利用率 2.397278705105113e-05 进程状态 running    创建时间 0.0        \n",
      "进程名 System                内存利用率 0.01634944076881687 进程状态 running    创建时间 0.0        \n",
      "进程名                       内存利用率 0.22573974926622295 进程状态 stopped    创建时间 1607679613.5767405 \n",
      "进程名 Registry              内存利用率 0.2824473770354844 进程状态 running    创建时间 1607679613.678944 \n",
      "进程名 chrome.exe            内存利用率 0.11783823474944181 进程状态 running    创建时间 1607743719.4168084 \n",
      "进程名 smss.exe              内存利用率 0.006304842994426447 进程状态 running    创建时间 1607679618.7238824 \n",
      "进程名 wininit.exe           内存利用率 0.03513211942331543 进程状态 running    创建时间 1607679631.470966 \n",
      "进程名 svchost.exe           内存利用率 0.061598076327675874 进程状态 running    创建时间 1607679633.3748565 \n",
      "进程名 csrss.exe             内存利用率 0.020988175063195263 进程状态 running    创建时间 1607679631.4922931 \n",
      "进程名 csrss.exe             内存利用率 0.012825441072312354 进程状态 running    创建时间 1607679627.3024864 \n",
      "进程名 svchost.exe           内存利用率 0.043954105058102245 进程状态 running    创建时间 1607679633.3780031 \n",
      "进程名 services.exe          内存利用率 0.026873494284228316 进程状态 running    创建时间 1607679631.645932 \n",
      "进程名 LsaIso.exe            内存利用率 0.007719237430438464 进程状态 running    创建时间 1607679631.714818 \n",
      "进程名 lsass.exe             内存利用率 0.058709355488024216 进程状态 running    创建时间 1607679631.7209935 \n",
      "进程名 winlogon.exe          内存利用率 0.04013044552345959 进程状态 running    创建时间 1607679632.3089597 \n",
      "进程名 nvcontainer.exe       内存利用率 0.12830235629722564 进程状态 running    创建时间 1607679639.4815457 \n",
      "进程名 svchost.exe           内存利用率 0.01105145483053457 进程状态 running    创建时间 1607679632.362951 \n",
      "进程名 svchost.exe           内存利用率 0.08709313535646876 进程状态 running    创建时间 1607679632.3958468 \n",
      "进程名 fontdrvhost.exe       内存利用率 0.009253495801705735 进程状态 running    创建时间 1607679632.403627 \n",
      "进程名 fontdrvhost.exe       内存利用率 0.04051401011627641 进程状态 running    创建时间 1607679632.4240744 \n",
      "进程名 WUDFHost.exe          内存利用率 0.016409372736444498 进程状态 running    创建时间 1607679632.4362853 \n",
      "进程名 svchost.exe           内存利用率 0.04969558755682899 进程状态 running    创建时间 1607679632.7081962 \n",
      "进程名 svchost.exe           内存利用率 0.023097780323687762 进程状态 running    创建时间 1607679632.8232703 \n",
      "进程名 dwm.exe               内存利用率 0.7581993224571195 进程状态 running    创建时间 1607679633.0778725 \n",
      "进程名 svchost.exe           内存利用率 0.014119971573069117 进程状态 running    创建时间 1607679633.1945863 \n",
      "进程名 SecurityHealthHost.exe  内存利用率 0.038632146332768895 进程状态 running    创建时间 1607679880.5997064 \n",
      "进程名 svchost.exe           内存利用率 0.02794028330800009 进程状态 running    创建时间 1607679633.2289388 \n",
      "进程名 svchost.exe           内存利用率 0.03356190187147158 进程状态 running    创建时间 1607679633.2299004 \n",
      "进程名 svchost.exe           内存利用率 0.016828896509837894 进程状态 running    创建时间 1607679633.2735012 \n",
      "进程名 svchost.exe           内存利用率 0.04282738406670284 进程状态 running    创建时间 1607679633.2812989 \n",
      "进程名 svchost.exe           内存利用率 0.03297456858872083 进程状态 running    创建时间 1607679633.288331 \n",
      "进程名 svchost.exe           内存利用率 0.022786134092024096 进程状态 running    创建时间 1607679633.310433 \n",
      "进程名 svchost.exe           内存利用率 0.016037794537153205 进程状态 running    创建时间 1607679633.3324444 \n",
      "进程名 svchost.exe           内存利用率 0.02197105933228836 进程状态 running    创建时间 1607679633.340247 \n",
      "进程名 svchost.exe           内存利用率 0.02735295002524934 进程状态 running    创建时间 1607679633.412815 \n",
      "进程名 chrome.exe            内存利用率 0.06572139570045667 进程状态 running    创建时间 1607763332.952643 \n",
      "进程名 svchost.exe           内存利用率 0.02375703196759167 进程状态 running    创建时间 1607679633.4674587 \n",
      "进程名 svchost.exe           内存利用率 0.027364936418774865 进程状态 running    创建时间 1607679633.5364404 \n",
      "进程名 svchost.exe           内存利用率 0.019058365705585646 进程状态 running    创建时间 1607679633.540799 \n",
      "进程名 igfxCUIService.exe    内存利用率 0.02151557637831839 进程状态 running    创建时间 1607679633.548366 \n",
      "进程名 NVDisplay.Container.exe  内存利用率 0.0435106084976578 进程状态 running    创建时间 1607679633.6119342 \n",
      "进程名 svchost.exe           内存利用率 0.021072079817873943 进程状态 running    创建时间 1607679635.3158813 \n",
      "进程名 svchost.exe           内存利用率 0.022246746383375447 进程状态 running    创建时间 1607679633.6195269 \n",
      "进程名 RuntimeBroker.exe     内存利用率 0.09424901229120751 进程状态 running    创建时间 1607679712.8224387 \n",
      "进程名 conhost.exe           内存利用率 0.033250255639807914 进程状态 running    创建时间 1607764202.43943 \n",
      "进程名 svchost.exe           内存利用率 0.0435106084976578 进程状态 running    创建时间 1607679633.736436 \n",
      "进程名 svchost.exe           内存利用率 0.015869985027795845 进程状态 running    创建时间 1607679633.756385 \n",
      "进程名 svchost.exe           内存利用率 0.03690610566509321 进程状态 running    创建时间 1607679633.756551 \n",
      "进程名 svchost.exe           内存利用率 0.036654391401057175 进程状态 running    创建时间 1607679633.7580285 \n",
      "进程名 svchost.exe           内存利用率 0.02513546722302711 进程状态 running    创建时间 1607679633.7738626 \n",
      "进程名 svchost.exe           内存利用率 0.020065222761729794 进程状态 running    创建时间 1607679633.8249493 \n",
      "进程名 svchost.exe           内存利用率 0.026993358219483572 进程状态 running    创建时间 1607679633.825991 \n",
      "进程名 MemCompression        内存利用率 1.2018037604432952 进程状态 running    创建时间 1607679633.8403947 \n",
      "进程名 svchost.exe           内存利用率 0.025255331158282365 进程状态 running    创建时间 1607679633.931994 \n",
      "进程名 svchost.exe           内存利用率 0.019765562923591655 进程状态 running    创建时间 1607679635.3174584 \n",
      "进程名 svchost.exe           内存利用率 0.03609103090535748 进程状态 running    创建时间 1607679634.312059 \n",
      "进程名 svchost.exe           内存利用率 0.01867480111276883 进程状态 running    创建时间 1607679634.4912367 \n",
      "进程名 svchost.exe           内存利用率 0.027820419372744834 进程状态 running    创建时间 1607679634.493642 \n",
      "进程名 NVDisplay.Container.exe  内存利用率 0.10370627678284719 进程状态 running    创建时间 1607679634.5249612 \n",
      "进程名 svchost.exe           内存利用率 0.05077436297412629 进程状态 running    创建时间 1607679634.6471443 \n",
      "进程名 svchost.exe           内存利用率 0.03810474501764577 进程状态 running    创建时间 1607679634.875628 \n",
      "进程名 wlanext.exe           内存利用率 0.014299767475951998 进程状态 running    创建时间 1607679634.9133868 \n",
      "进程名 Everything.exe        内存利用率 0.33338954951896804 进程状态 running    创建时间 1607679655.313647 \n",
      "进程名 conhost.exe           内存利用率 0.01591793060189795 进程状态 running    创建时间 1607679634.94537 \n",
      "进程名 spoolsv.exe           内存利用率 0.03525198335857068 进程状态 running    创建时间 1607679634.9480815 \n",
      "进程名 svchost.exe           内存利用率 0.03657048664637849 进程状态 running    创建时间 1607679634.9881072 \n",
      "进程名 svchost.exe           内存利用率 0.03974688093064277 进程状态 running    创建时间 1607679635.020352 \n",
      "进程名 svchost.exe           内存利用率 0.06297651158311132 进程状态 running    创建时间 1607679635.057575 \n",
      "进程名 svchost.exe           内存利用率 0.0223186647445286 进程状态 running    创建时间 1607679635.0664291 \n",
      "进程名 WmiPrvSE.exe          内存利用率 0.03069715381887097 进程状态 running    创建时间 1607679635.4259417 \n",
      "进程名 FNPLicensingService.exe  内存利用率 0.027652609863387474 进程状态 running    创建时间 1607679635.4521914 \n",
      "进程名 ELANFPService.exe     内存利用率 0.015306624532096145 进程状态 running    创建时间 1607679635.45421 \n",
      "进程名 Everything.exe        内存利用率 0.018662814719243304 进程状态 running    创建时间 1607679635.455693 \n",
      "进程名 IntelCpHDCPSvc.exe    内存利用率 0.018542950783988047 进程状态 running    创建时间 1607679635.4569259 \n",
      "进程名 KillerAnalyticsService.exe  内存利用率 0.025962528376288374 进程状态 running    创建时间 1607679635.4653995 \n",
      "进程名 svchost.exe           内存利用率 0.04842502984312328 进程状态 running    创建时间 1607679635.4660566 \n",
      "进程名 svchost.exe           内存利用率 0.12421499610502142 进程状态 running    创建时间 1607679635.4684718 \n",
      "进程名 svchost.exe           内存利用率 0.0823824827009372 进程状态 running    创建时间 1607679635.4706938 \n",
      "进程名 svchost.exe           内存利用率 0.035719452706066177 进程状态 running    创建时间 1607679635.4754012 \n",
      "进程名 svchost.exe           内存利用率 0.020880297521465533 进程状态 running    创建时间 1607679635.477012 \n",
      "进程名 pythonw.exe           内存利用率 0.12648042448134575 进程状态 running    创建时间 1607682522.417554 \n",
      "进程名 svchost.exe           内存利用率 0.023229630652468542 进程状态 running    创建时间 1607679635.5179665 \n",
      "进程名 svchost.exe           内存利用率 0.017248420283231286 进程状态 running    创建时间 1607679635.5389144 \n",
      "进程名 svchost.exe           内存利用率 0.03195572513905115 进程状态 running    创建时间 1607679759.2778475 \n",
      "进程名 nvcontainer.exe       内存利用率 0.0959750529588832 进程状态 running    创建时间 1607679635.548892 \n",
      "进程名 RtkAudUService64.exe  内存利用率 0.022258732776900974 进程状态 running    创建时间 1607679635.54974 \n",
      "进程名 RstMwService.exe      内存利用率 0.015390529286774826 进程状态 running    创建时间 1607679635.5521736 \n",
      "进程名 NahimicService.exe    内存利用率 0.04952777804747163 进程状态 running    创建时间 1607679635.5592773 \n",
      "进程名 KillerNetworkService.exe  内存利用率 0.13542227405138782 进程状态 running    创建时间 1607679635.5607305 \n",
      "进程名 SenseService.exe      内存利用率 0.051133954779892056 进程状态 running    创建时间 1607679635.5652668 \n",
      "进程名 SMV4_Service.exe      内存利用率 0.041604771927099236 进程状态 running    创建时间 1607679635.5727837 \n",
      "进程名 RuntimeBroker.exe     内存利用率 0.053219587253333506 进程状态 running    创建时间 1607689790.762334 \n",
      "进程名 svchost.exe           内存利用率 0.014383672230630678 进程状态 running    创建时间 1607679635.600924 \n",
      "进程名 MsMpEng.exe           内存利用率 0.8512257226087234 进程状态 running    创建时间 1607679635.614358 \n",
      "进程名 vmms.exe              内存利用率 0.10462922908431266 进程状态 running    创建时间 1607679635.6276271 \n",
      "进程名 XtuService.exe        内存利用率 0.14588639559917166 进程状态 running    创建时间 1607679635.6284528 \n",
      "进程名 svchost.exe           内存利用率 0.06344398093060681 进程状态 running    创建时间 1607679635.632812 \n",
      "进程名 svchost.exe           内存利用率 0.025758759686354438 进程状态 running    创建时间 1607679635.6676323 \n",
      "进程名 svchost.exe           内存利用率 0.029642351188624724 进程状态 running    创建时间 1607684080.3810804 \n",
      "进程名 IntelCpHeciSvc.exe    内存利用率 0.017176501922078133 进程状态 running    创建时间 1607679635.706015 \n"
     ]
    },
    {
     "name": "stdout",
     "output_type": "stream",
     "text": [
      "进程名 svchost.exe           内存利用率 0.016505263884648704 进程状态 running    创建时间 1607679635.7174475 \n",
      "进程名 jhi_service.exe       内存利用率 0.018974460950906966 进程状态 running    创建时间 1607679635.765738 \n",
      "进程名 svchost.exe           内存利用率 0.026010473950390477 进程状态 running    创建时间 1607679635.7738378 \n",
      "进程名 com.docker.service    内存利用率 0.1551398914008774 进程状态 running    创建时间 1607679635.8479288 \n",
      "进程名 WmiPrvSE.exe          内存利用率 0.08718902650467295 进程状态 running    创建时间 1607679635.8527462 \n",
      "进程名 svchost.exe           内存利用率 0.03140435103687698 进程状态 running    创建时间 1607679635.9777238 \n",
      "进程名 KSPSService.exe       内存利用率 0.04755002311575991 进程状态 running    创建时间 1607679636.0279715 \n",
      "进程名 xTendUtilityService.exe  内存利用率 0.047789750986270425 进程状态 running    创建时间 1607679636.0279715 \n",
      "进程名 ChsIME.exe            内存利用率 0.07053992589771794 进程状态 running    创建时间 1607690814.013053 \n",
      "进程名 dtyWork.exe           内存利用率 0.06342000814355576 进程状态 running    创建时间 1607679636.3541086 \n",
      "进程名 ServiceHub.IdentityHost.exe  内存利用率 0.1900202965601568 进程状态 running    创建时间 1607764197.8318093 \n",
      "进程名 igfxEM.exe            内存利用率 0.06621283783500322 进程状态 running    创建时间 1607679638.272132 \n",
      "进程名 com.docker.backend.exe  内存利用率 0.08503147567007835 进程状态 running    创建时间 1607679662.8678725 \n",
      "进程名 xTendUtility.exe      内存利用率 0.018926515376804866 进程状态 running    创建时间 1607679636.4794416 \n",
      "进程名 conhost.exe           内存利用率 0.022390583105681754 进程状态 running    创建时间 1607679636.4938056 \n",
      "进程名 KSPS.exe              内存利用率 0.015138815022738786 进程状态 running    创建时间 1607679636.5040216 \n",
      "进程名 ServiceHub.VSDetouredHost.exe  内存利用率 0.25377592372242724 进程状态 running    创建时间 1607764197.861556 \n",
      "进程名 conhost.exe           内存利用率 0.022354623925105177 进程状态 running    创建时间 1607679636.5329485 \n",
      "进程名 RuntimeBroker.exe     内存利用率 0.05834976368225844 进程状态 running    创建时间 1607679647.0639527 \n",
      "进程名 LockApp.exe           内存利用率 0.14655763363660107 进程状态 stopped    创建时间 1607705638.0927763 \n",
      "进程名 KAPSService.exe       内存利用率 0.047526050328708866 进程状态 running    创建时间 1607679636.679531 \n",
      "进程名 AI_widget.exe         内存利用率 0.1920939426400727 进程状态 running    创建时间 1607679636.721762 \n",
      "进程名 svchost.exe           内存利用率 0.03105674562463674 进程状态 running    创建时间 1607679638.2294192 \n",
      "进程名 KAPS.exe              内存利用率 0.03310641891750161 进程状态 running    创建时间 1607679636.9177947 \n",
      "进程名 conhost.exe           内存利用率 0.022738188517921996 进程状态 running    创建时间 1607679636.9273455 \n",
      "进程名 svchost.exe           内存利用率 0.04868873050068484 进程状态 running    创建时间 1607679637.3754275 \n",
      "进程名 vmcompute.exe         内存利用率 0.02683753510365174 进程状态 running    创建时间 1607679637.4370072 \n",
      "进程名 BaiduNetdisk.exe      内存利用率 0.31793908826456563 进程状态 running    创建时间 1607704465.9785688 \n",
      "进程名 99box.exe             内存利用率 0.5077436297412629 进程状态 running    创建时间 1607690815.754856 \n",
      "进程名 sihost.exe            内存利用率 0.08353317647938766 进程状态 running    创建时间 1607679637.6770253 \n",
      "进程名 svchost.exe           内存利用率 0.07818724496700326 进程状态 running    创建时间 1607679637.7042937 \n",
      "进程名 PresentationFontCache.exe  内存利用率 0.052104852655459624 进程状态 running    创建时间 1607679637.7381787 \n",
      "进程名 svchost.exe           内存利用率 0.13111915877572414 进程状态 running    创建时间 1607679637.834447 \n",
      "进程名 svchost.exe           内存利用率 0.04120922094075689 进程状态 running    创建时间 1607679637.8407044 \n",
      "进程名 rundll32.exe          内存利用率 0.019417957511351416 进程状态 running    创建时间 1607679637.8857365 \n",
      "进程名 taskhostw.exe         内存利用率 0.06050731451685305 进程状态 running    创建时间 1607679637.9062276 \n",
      "进程名 SearchUI.exe          内存利用率 0.7700059200797623 进程状态 stopped    创建时间 1607679642.3590045 \n",
      "进程名 svchost.exe           内存利用率 0.02070050161858265 进程状态 running    创建时间 1607679638.0787284 \n",
      "进程名 svchost.exe           内存利用率 0.04560822736462477 进程状态 running    创建时间 1607679638.080987 \n",
      "进程名 ControlCenter.exe     内存利用率 0.5712355562459718 进程状态 running    创建时间 1607679673.6472578 \n",
      "进程名 explorer.exe          内存利用率 0.46375356550258406 进程状态 running    创建时间 1607679638.323192 \n",
      "进程名 ctfmon.exe            内存利用率 0.08745272716223453 进程状态 running    创建时间 1607679638.1415372 \n",
      "进程名 conhost.exe           内存利用率 0.03321429645923134 进程状态 running    创建时间 1607764197.876562 \n",
      "进程名 ServiceHub.ThreadedWaitDialog.exe  内存利用率 0.24210117642856538 进程状态 running    创建时间 1607764202.426896 \n",
      "进程名 KillerControlCenter.exe  内存利用率 0.37627686555329853 进程状态 running    创建时间 1607679671.0379221 \n",
      "进程名 dllhost.exe           内存利用率 0.030733112999447545 进程状态 running    创建时间 1607681522.7708952 \n",
      "进程名 svchost.exe           内存利用率 0.01842308684873279 进程状态 running    创建时间 1607679638.3899832 \n",
      "进程名 svchost.exe           内存利用率 0.01546244764792798 进程状态 running    创建时间 1607679638.5900977 \n",
      "进程名 YunDetectService.exe  内存利用率 0.034892391552804915 进程状态 running    创建时间 1607679660.3532765 \n",
      "进程名 svchost.exe           内存利用率 0.0244282700050211 进程状态 running    创建时间 1607691225.472747 \n",
      "进程名 Video.UI.exe          内存利用率 0.0012945305007567608 进程状态 stopped    创建时间 1607689459.2777576 \n",
      "进程名 ChsIME.exe            内存利用率 0.14514323920058905 进程状态 running    创建时间 1607679639.2236688 \n",
      "进程名 svchost.exe           内存利用率 0.09412914835595225 进程状态 running    创建时间 1607679639.3175943 \n",
      "进程名 nvcontainer.exe       内存利用率 0.07606565331298523 进程状态 running    创建时间 1607679639.4274857 \n",
      "进程名 StartMenuExperienceHost.exe  内存利用率 0.2373905237730338 进程状态 running    创建时间 1607679640.3848295 \n",
      "进程名 GoogleCrashHandler64.exe  内存利用率 0.0032842718259940046 进程状态 running    创建时间 1607679641.8767502 \n",
      "进程名 RuntimeBroker.exe     内存利用率 0.07587387101657682 进程状态 running    创建时间 1607679641.906408 \n",
      "进程名 GMSG.exe              内存利用率 0.07818724496700326 进程状态 running    创建时间 1607679640.8277955 \n",
      "进程名 FusionShortcut.exe    内存利用率 0.053926784471339514 进程状态 running    创建时间 1607679640.851686 \n",
      "进程名 dllhost.exe           内存利用率 0.03559958877081093 进程状态 running    创建时间 1607679806.1876037 \n",
      "进程名 NVIDIA Web Helper.exe  内存利用率 0.02770055543748958 进程状态 running    创建时间 1607679641.1279197 \n",
      "进程名 conhost.exe           内存利用率 0.003416122154774786 进程状态 running    创建时间 1607679641.1572356 \n",
      "进程名 SearchIndexer.exe     内存利用率 0.16178035341401853 进程状态 running    创建时间 1607679641.1855986 \n",
      "进程名 GoogleCrashHandler.exe  内存利用率 0.0033681765806726836 进程状态 running    创建时间 1607679641.281566 \n",
      "进程名 svchost.exe           内存利用率 0.025566977389946028 进程状态 running    创建时间 1607679641.6016629 \n",
      "进程名 chrome.exe            内存利用率 0.042851356853753894 进程状态 running    创建时间 1607743719.109462 \n",
      "进程名 ShellExperienceHost.exe  内存利用率 0.24176555740985065 进程状态 stopped    创建时间 1607679712.51596 \n",
      "进程名 RuntimeBroker.exe     内存利用率 0.1245266423366851 进程状态 running    创建时间 1607679642.6661203 \n",
      "进程名 NisSrv.exe            内存利用率 0.036942064845669795 进程状态 running    创建时间 1607679642.8821113 \n",
      "进程名 YourPhone.exe         内存利用率 0.07552626560433658 进程状态 stopped    创建时间 1607679643.0879023 \n",
      "进程名 Docker Desktop.exe    内存利用率 0.3075948306520371 进程状态 running    创建时间 1607679661.0907845 \n",
      "进程名 WindowsInternal.ComposableShell.Experiences.TextInput.InputApp.exe  内存利用率 0.14472371542719567 进程状态 running    创建时间 1607679643.6170936 \n",
      "进程名 conhost.exe           内存利用率 0.05833777728873293 进程状态 running    创建时间 1607744331.8102708 \n",
      "进程名 RuntimeBroker.exe     内存利用率 0.0563120767829191 进程状态 running    创建时间 1607679644.6123111 \n",
      "进程名 ServiceHub.SettingsHost.exe  内存利用率 0.20537486666635502 进程状态 running    创建时间 1607764204.9186883 \n",
      "进程名 NahimicSvc64.exe      内存利用率 0.003032557561957968 进程状态 running    创建时间 1607679644.8810332 \n",
      "进程名 NahimicSvc32.exe      内存利用率 0.014887100758702752 进程状态 running    创建时间 1607679644.8902953 \n",
      "进程名 SgrmBroker.exe        内存利用率 0.01986145407179586 进程状态 running    创建时间 1607679759.768828 \n",
      "进程名 conhost.exe           内存利用率 0.016601155032852907 进程状态 running    创建时间 1607679662.8726265 \n",
      "进程名 SocketHeciServer.exe  内存利用率 0.019058365705585646 进程状态 running    创建时间 1607679759.4844363 \n",
      "进程名 wscript.exe           内存利用率 0.058493600404564756 进程状态 running    创建时间 1607682522.0834541 \n",
      "进程名 CloudMatrixControlCenter.exe  内存利用率 0.12727152645403045 进程状态 running    创建时间 1607679658.4494603 \n",
      "进程名 nvsphelper64.exe      内存利用率 0.03570746631254065 进程状态 running    创建时间 1607679650.4996543 \n",
      "进程名 NVIDIA Share.exe      内存利用率 0.15119636793097946 进程状态 running    创建时间 1607679650.5092142 \n",
      "进程名 Microsoft.Photos.exe  内存利用率 0.09547162443081111 进程状态 stopped    创建时间 1607689790.3234932 \n",
      "进程名 NVIDIA Share.exe      内存利用率 0.07720436069791016 进程状态 running    创建时间 1607679651.736848 \n",
      "进程名 NVIDIA Share.exe      内存利用率 0.1808267327260787 进程状态 running    创建时间 1607679652.2939987 \n",
      "进程名 99box.exe             内存利用率 1.2087199095075234 进程状态 running    创建时间 1607690820.7565477 \n",
      "进程名 SecurityHealthSystray.exe  内存利用率 0.027892337733897987 进程状态 running    创建时间 1607679653.53462 \n",
      "进程名 SecurityHealthService.exe  内存利用率 0.03969893535654067 进程状态 running    创建时间 1607679653.7141438 \n",
      "进程名 RtkAudUService64.exe  内存利用率 0.023661140819387465 进程状态 running    创建时间 1607679654.0883448 \n",
      "进程名 PerfWatson2.exe       内存利用率 0.19751179251361026 进程状态 running    创建时间 1607764196.1046531 \n",
      "进程名 FusionStation.exe     内存利用率 0.14078019195729777 进程状态 running    创建时间 1607679655.0631988 \n",
      "进程名 svchost.exe           内存利用率 0.027664596256913004 进程状态 running    创建时间 1607679760.4847364 \n",
      "进程名 OSDwindow.exe         内存利用率 0.17895685533609668 进程状态 running    创建时间 1607679671.6943707 \n",
      "进程名 notepad.exe           内存利用率 0.07105534081931554 进程状态 running    创建时间 1607683894.323702 \n",
      "进程名 svchost.exe           内存利用率 0.02212688244812019 进程状态 running    创建时间 1607737111.2910788 \n",
      "进程名 IGCCTray.exe          内存利用率 0.17121364511860715 进程状态 running    创建时间 1607679667.0878243 \n",
      "进程名 svchost.exe           内存利用率 0.036654391401057175 进程状态 running    创建时间 1607679667.2192943 \n",
      "进程名 conhost.exe           内存利用率 0.03321429645923134 进程状态 running    创建时间 1607764204.934914 \n",
      "进程名 svchost.exe           内存利用率 0.04810139721793409 进程状态 running    创建时间 1607679760.3437 \n",
      "进程名 IGCC.exe              内存利用率 0.12409513216976617 进程状态 running    创建时间 1607679670.3102968 \n",
      "进程名 RuntimeBroker.exe     内存利用率 0.08792019650973001 进程状态 running    创建时间 1607705638.3572433 \n"
     ]
    },
    {
     "name": "stdout",
     "output_type": "stream",
     "text": [
      "进程名 unsecapp.exe          内存利用率 0.023493331310030105 进程状态 running    创建时间 1607679678.411445 \n",
      "进程名 conhost.exe           内存利用率 0.03322628285275687 进程状态 running    创建时间 1607764197.842442 \n",
      "进程名 svchost.exe           内存利用率 0.047298308851723876 进程状态 running    创建时间 1607702340.0823655 \n",
      "进程名 chrome.exe            内存利用率 0.6881148795133716 进程状态 running    创建时间 1607744333.597195 \n",
      "进程名 BaiduNetdiskHost.exe  内存利用率 0.09477641360633064 进程状态 running    创建时间 1607704468.959676 \n",
      "进程名 RuntimeBroker.exe     内存利用率 0.018938501770330393 进程状态 running    创建时间 1607679693.7615736 \n",
      "进程名 aesm_service.exe      内存利用率 0.035443765654979094 进程状态 running    创建时间 1607679758.3719416 \n",
      "进程名 RuntimeBroker.exe     内存利用率 0.019393984724300362 进程状态 running    创建时间 1607689459.5195456 \n",
      "进程名 ApplicationFrameHost.exe  内存利用率 0.14824771512370016 进程状态 running    创建时间 1607679692.8891408 \n",
      "进程名 WinStore.App.exe      内存利用率 0.001018843449669673 进程状态 stopped    创建时间 1607679692.8974488 \n",
      "进程名 svchost.exe           内存利用率 0.048712703287735894 进程状态 running    创建时间 1607679759.155394 \n",
      "进程名 svchost.exe           内存利用率 0.020856324734414483 进程状态 running    创建时间 1607698687.8234687 \n",
      "进程名 svchost.exe           内存利用率 0.03202764350020431 进程状态 running    创建时间 1607679757.8979764 \n",
      "进程名 cloudSaveEx.exe       内存利用率 0.0338975208901863 进程状态 running    创建时间 1607690818.7992 \n",
      "进程名 svchost.exe           内存利用率 0.052020947900780955 进程状态 running    创建时间 1607687901.1957116 \n",
      "进程名 chrome.exe            内存利用率 0.02672965756192201 进程状态 running    创建时间 1607743718.6807652 \n",
      "进程名 chrome.exe            内存利用率 0.25117487632738816 进程状态 running    创建时间 1607743719.3877146 \n",
      "进程名 svchost.exe           内存利用率 0.025554990996420505 进程状态 running    创建时间 1607687901.1815236 \n",
      "进程名 devenv.exe            内存利用率 1.2526380553850491 进程状态 running    创建时间 1607764194.736426 \n",
      "进程名 python.exe            内存利用率 6.288781227102243  进程状态 running    创建时间 1607763069.0998056 \n",
      "进程名 chrome.exe            内存利用率 0.10182441299933967 进程状态 running    创建时间 1607743719.407581 \n",
      "进程名 python.exe            内存利用率 0.05367507020730348 进程状态 running    创建时间 1607744399.7574756 \n",
      "进程名 SystemSettings.exe    内存利用率 0.16676669312063716 进程状态 stopped    创建时间 1607755984.9377596 \n",
      "进程名 svchost.exe           内存利用率 0.031656065300913014 进程状态 running    创建时间 1607705160.54496 \n",
      "进程名 svchost.exe           内存利用率 0.024176555740985064 进程状态 running    创建时间 1607700638.8506873 \n",
      "进程名 svchost.exe           内存利用率 0.015246692564468516 进程状态 running    创建时间 1607743589.166099 \n",
      "进程名 BaiduNetdiskHost.exe  内存利用率 0.03126051431457067 进程状态 running    创建时间 1607704471.8456264 \n",
      "进程名 svchost.exe           内存利用率 0.04070579241268482 进程状态 running    创建时间 1607705166.480261 \n",
      "进程名 BaiduNetdiskRender.exe  内存利用率 0.05609632169945964 进程状态 running    创建时间 1607704472.6736803 \n",
      "进程名 chrome.exe            内存利用率 0.2845569822959769 进程状态 running    创建时间 1607761982.3709335 \n",
      "进程名 python.exe            内存利用率 0.024032719018678757 进程状态 running    创建时间 1607744331.78311 \n",
      "进程名 chrome.exe            内存利用率 0.6033471045008548 进程状态 running    创建时间 1607743718.6607635 \n",
      "进程名 svchost.exe           内存利用率 0.016637114213429484 进程状态 running    创建时间 1607749641.7696033 \n",
      "进程名 conhost.exe           内存利用率 0.03311840531102713 进程状态 running    创建时间 1607764197.2304964 \n",
      "进程名 python.exe            内存利用率 0.23264391193692566 进程状态 running    创建时间 1607744418.0163784 \n",
      "进程名 chrome.exe            内存利用率 0.09975076691942375 进程状态 running    创建时间 1607743719.3463564 \n",
      "进程名 chrome.exe            内存利用率 0.1693557541221507 进程状态 running    创建时间 1607743719.437981 \n",
      "进程名 vcpkgsrv.exe          内存利用率 0.0755861975719642 进程状态 running    创建时间 1607764208.7119572 \n",
      "进程名 python.exe            内存利用率 0.14135553884652297 进程状态 running    创建时间 1607744332.0318508 \n",
      "进程名 chrome.exe            内存利用率 0.1137029289831355 进程状态 running    创建时间 1607743719.037675 \n",
      "进程名 chrome.exe            内存利用率 1.8098974767802583 进程状态 running    创建时间 1607743718.9969356 \n",
      "进程名 Microsoft.ServiceHub.Controller.exe  内存利用率 0.17633183515400658 进程状态 running    创建时间 1607764197.2143147 \n",
      "进程名 ServiceHub.Host.CLR.x86.exe  内存利用率 0.1796760389476282 进程状态 running    创建时间 1607764209.8073304 \n",
      "进程名 conhost.exe           内存利用率 0.03322628285275687 进程状态 running    创建时间 1607764209.8193288 \n"
     ]
    }
   ],
   "source": [
    "for pnum in psutil.pids():\n",
    "     p = psutil.Process(pnum)\n",
    "     print(u\"进程名 %-20s  内存利用率 %-18s 进程状态 %-10s 创建时间 %-10s \" \\\n",
    "     % (p.name(), p.memory_percent(), p.status(), p.create_time()))"
   ]
  },
  {
   "cell_type": "code",
   "execution_count": 96,
   "metadata": {},
   "outputs": [
    {
     "name": "stdout",
     "output_type": "stream",
     "text": [
      "系统磁盘信息：[sdiskpart(device='C:\\\\', mountpoint='C:\\\\', fstype='NTFS', opts='rw,fixed'), sdiskpart(device='D:\\\\', mountpoint='D:\\\\', fstype='NTFS', opts='rw,fixed'), sdiskpart(device='E:\\\\', mountpoint='E:\\\\', fstype='NTFS', opts='rw,fixed'), sdiskpart(device='F:\\\\', mountpoint='F:\\\\', fstype='NTFS', opts='rw,fixed')]\n",
      "总容量：463G\n",
      "已用容量：112G\n",
      "可用容量：351G\n",
      "总容量：86G\n",
      "已用容量：0G\n",
      "可用容量：85G\n",
      "总容量：28G\n",
      "已用容量：0G\n",
      "可用容量：27G\n",
      "总容量：362G\n",
      "已用容量：0G\n",
      "可用容量：362G\n"
     ]
    }
   ],
   "source": [
    "io = psutil.disk_partitions()\n",
    "print(\"系统磁盘信息：\" + str(io))\n",
    "for i in io:\n",
    "     o = psutil.disk_usage(i.device)\n",
    "     print(\"总容量：\" + str(int(o.total / (1024.0 * 1024.0 * 1024.0))) + \"G\")\n",
    "     print(\"已用容量：\" + str(int(o.used / (1024.0 * 1024.0 * 1024.0))) + \"G\")\n",
    "     print(\"可用容量：\" + str(int(o.free / (1024.0 * 1024.0 * 1024.0))) + \"G\")"
   ]
  },
  {
   "cell_type": "code",
   "execution_count": 97,
   "metadata": {},
   "outputs": [
    {
     "name": "stdout",
     "output_type": "stream",
     "text": [
      "网卡接收流量 308.47 Mb 网卡发送流量 3304.35 Mb\n"
     ]
    }
   ],
   "source": [
    "net = psutil.net_io_counters()\n",
    "bytes_sent = '{0:.2f} Mb'.format(net.bytes_recv / 1024 / 1024)\n",
    "bytes_rcvd = '{0:.2f} Mb'.format(net.bytes_sent / 1024 / 1024)\n",
    "print(u\"网卡接收流量 %s 网卡发送流量 %s\" % (bytes_rcvd, bytes_sent))"
   ]
  },
  {
   "cell_type": "code",
   "execution_count": 98,
   "metadata": {},
   "outputs": [
    {
     "name": "stdout",
     "output_type": "stream",
     "text": [
      "当前有1个用户，分别是 AERO15\n"
     ]
    }
   ],
   "source": [
    "users_count = len(psutil.users())\n",
    "users_list = \",\".join([u.name for u in psutil.users()])\n",
    "print(u\"当前有%s个用户，分别是 %s\" % (users_count, users_list))"
   ]
  },
  {
   "cell_type": "code",
   "execution_count": 99,
   "metadata": {},
   "outputs": [
    {
     "name": "stdout",
     "output_type": "stream",
     "text": [
      "物理内存： 31.83 G\n",
      "剩余物理内存： 20.42 G\n",
      "物理内存使用率： 35 %\n",
      "系统启动时间: 2020-12-11 17:40:11\n"
     ]
    }
   ],
   "source": [
    "free = str(round(psutil.virtual_memory().free / (1024.0 * 1024.0 * 1024.0), 2))\n",
    "total = str(round(psutil.virtual_memory().total / (1024.0 * 1024.0 * 1024.0), 2))\n",
    "memory = int(psutil.virtual_memory().total - psutil.virtual_memory().free) / float(psutil.virtual_memory().total)\n",
    "print(u\"物理内存： %s G\" % total)\n",
    "print(u\"剩余物理内存： %s G\" % free)\n",
    "print(u\"物理内存使用率： %s %%\" % int(memory * 100))\n",
    "# 系统启动时间\n",
    "print(u\"系统启动时间: %s\" % datetime.datetime.fromtimestamp(psutil.boot_time()).strftime(\"%Y-%m-%d %H:%M:%S\"))"
   ]
  },
  {
   "cell_type": "code",
   "execution_count": 101,
   "metadata": {},
   "outputs": [
    {
     "name": "stdout",
     "output_type": "stream",
     "text": [
      "Collecting wmi\n",
      "  Downloading WMI-1.5.1-py2.py3-none-any.whl (28 kB)\n",
      "Requirement already satisfied: pywin32 in c:\\users\\aero15\\anaconda3\\lib\\site-packages (from wmi) (227)\n",
      "Installing collected packages: wmi\n",
      "Successfully installed wmi-1.5.1\n",
      "Requirement already satisfied: pywin32 in c:\\users\\aero15\\anaconda3\\lib\\site-packages (227)\n"
     ]
    }
   ],
   "source": [
    "!pip install wmi\n",
    "!pip install pywin32"
   ]
  },
  {
   "cell_type": "code",
   "execution_count": 102,
   "metadata": {},
   "outputs": [
    {
     "name": "stdout",
     "output_type": "stream",
     "text": [
      "0000_0000_0100_0000_E4D2_5CDB_F9B6_5001.\n",
      "0025_3886_9102_5AB6.\n"
     ]
    }
   ],
   "source": [
    "import wmi\n",
    "c = wmi.WMI()\n",
    "# # 硬盘序列号\n",
    "for physical_disk in c.Win32_DiskDrive():\n",
    "    print(physical_disk.SerialNumber)"
   ]
  },
  {
   "cell_type": "code",
   "execution_count": 103,
   "metadata": {},
   "outputs": [
    {
     "name": "stdout",
     "output_type": "stream",
     "text": [
      "BFEBFBFF000906EA\n"
     ]
    }
   ],
   "source": [
    "# CPU序列号\n",
    "for cpu in c.Win32_Processor():\n",
    "    print(cpu.ProcessorId.strip())"
   ]
  },
  {
   "cell_type": "code",
   "execution_count": 104,
   "metadata": {},
   "outputs": [
    {
     "name": "stdout",
     "output_type": "stream",
     "text": [
      "Default string\n"
     ]
    }
   ],
   "source": [
    "# 主板序列号\n",
    "for board_id in c.Win32_BaseBoard():\n",
    "    print(board_id.SerialNumber)"
   ]
  },
  {
   "cell_type": "code",
   "execution_count": 105,
   "metadata": {},
   "outputs": [
    {
     "name": "stdout",
     "output_type": "stream",
     "text": [
      "None\n",
      "38:00:25:95:6F:F0\n",
      "B4:2E:99:3F:DE:FD\n",
      "38:00:25:95:6F:F1\n",
      "None\n",
      "3A:00:25:95:6F:F0\n",
      "None\n",
      "None\n",
      "None\n",
      "None\n",
      "None\n",
      "A0:14:20:52:41:53\n",
      "A4:05:20:52:41:53\n",
      "AA:34:20:52:41:53\n",
      "None\n",
      "None\n",
      "00:15:5D:94:4D:A0\n"
     ]
    }
   ],
   "source": [
    "# mac地址\n",
    "for mac in c.Win32_NetworkAdapter():\n",
    "    print(mac.MACAddress)"
   ]
  },
  {
   "cell_type": "code",
   "execution_count": 106,
   "metadata": {},
   "outputs": [
    {
     "name": "stdout",
     "output_type": "stream",
     "text": [
      "SN19370J000173\n"
     ]
    }
   ],
   "source": [
    "# bios序列号\n",
    "for bios_id in c.Win32_BIOS():\n",
    "    print(bios_id.SerialNumber.strip())"
   ]
  },
  {
   "cell_type": "markdown",
   "metadata": {},
   "source": [
    "# PART6:获取NVIDIA GPU型号信息"
   ]
  },
  {
   "cell_type": "code",
   "execution_count": 10,
   "metadata": {},
   "outputs": [],
   "source": [
    "#简单使用\n",
    "from pynvml import *"
   ]
  },
  {
   "cell_type": "code",
   "execution_count": 12,
   "metadata": {},
   "outputs": [],
   "source": [
    "nvmlInit()     #初始化 ( 需要将 nvidia-smi.exe文件拷贝到C:\\Program Files\\NVIDIA Corporation\\NVSMI， 否则 “NVML Shared Library Not Found“)"
   ]
  },
  {
   "cell_type": "code",
   "execution_count": 13,
   "metadata": {},
   "outputs": [
    {
     "data": {
      "text/plain": [
       "b'460.79'"
      ]
     },
     "execution_count": 13,
     "metadata": {},
     "output_type": "execute_result"
    }
   ],
   "source": [
    "info1=nvmlSystemGetDriverVersion()\n",
    "info1"
   ]
  },
  {
   "cell_type": "code",
   "execution_count": 19,
   "metadata": {},
   "outputs": [
    {
     "name": "stdout",
     "output_type": "stream",
     "text": [
      "Driver:  b'460.79'\n"
     ]
    }
   ],
   "source": [
    "print(\"Driver: \",info1)  #显示驱动信息"
   ]
  },
  {
   "cell_type": "code",
   "execution_count": 20,
   "metadata": {},
   "outputs": [
    {
     "name": "stdout",
     "output_type": "stream",
     "text": [
      "Driver:  b'460.79'\n",
      "GPU 0 : b'GeForce RTX 2070 with Max-Q Design'\n"
     ]
    }
   ],
   "source": [
    "def checkGPU():\n",
    "    import pynvml\n",
    "    pynvml.nvmlInit()     #初始化\n",
    "    print(\"Driver: \",pynvml.nvmlSystemGetDriverVersion())#显示驱动信息\n",
    "    deviceCount = pynvml.nvmlDeviceGetCount()\n",
    "    for i in range(deviceCount):\n",
    "        handle = pynvml.nvmlDeviceGetHandleByIndex(i)\n",
    "        print(\"GPU\", i, \":\", pynvml.nvmlDeviceGetName(handle))\n",
    "checkGPU()"
   ]
  },
  {
   "cell_type": "code",
   "execution_count": 22,
   "metadata": {},
   "outputs": [
    {
     "data": {
      "text/plain": [
       "1"
      ]
     },
     "execution_count": 22,
     "metadata": {},
     "output_type": "execute_result"
    }
   ],
   "source": [
    "import pynvml #导包\n",
    "\n",
    "NUM_EXPAND = 1024 * 1024\n",
    "\n",
    "\"\"\"GPU消耗情况\"\"\"\n",
    "pynvml.nvmlInit() #初始化\n",
    "#print(\"Driver: \", pynvml.nvmlSystemGetDriverVersion()) #显示驱动信息\n",
    "\n",
    "all_gpu_used = []#用于记录所有GPU内存使用信息的list\n",
    "need_record_pid = 19289 #需要记录的进程PID\n",
    "\n",
    "gpuDeviceCount = pynvml.nvmlDeviceGetCount()#获取Nvidia GPU块数\n",
    "gpuDeviceCount"
   ]
  },
  {
   "cell_type": "code",
   "execution_count": 23,
   "metadata": {},
   "outputs": [],
   "source": [
    "for i in range(gpuDeviceCount):\n",
    "    handle = pynvml.nvmlDeviceGetHandleByIndex(i)#获取GPU i的handle，后续通过handle来处理\n",
    "    #info = pynvml.nvmlDeviceGetMemoryInfo(handle)#通过handle获取GPU i的信息\n",
    "    ## gpu_memory_total = info.total #GPU i的总显存\n",
    "    #gpu_memory_used = info.used / NUM_EXPAND #转为MB单位\n",
    "    #all_gpu_used.append(gpu_memory_used) #添加进list\n",
    "    \n",
    "    ###还可以直接针对pid的gpu消耗进行统计\n",
    "    info_list = pynvml.nvmlDeviceGetComputeRunningProcesses(handle)#获取所有GPU上正在运行的进程信息\n",
    "    info_list_len = len(info_list)\n",
    "    gpu_memory_used = 0\n",
    "    if info_list_len > 0:#0表示没有正在运行的进程\n",
    "        for info_i in info_list:\n",
    "            if info_i.pid == need_record_pid:#如果与需要记录的pid一致\n",
    "                gpu_memory_used += info_i.usedGpuMemory / NUM_EXPAND #统计某pid使用的总显存\n",
    "    all_gpu_used.append(gpu_memory_used)"
   ]
  },
  {
   "cell_type": "code",
   "execution_count": 24,
   "metadata": {},
   "outputs": [],
   "source": [
    "pynvml.nvmlShutdown() #最后关闭管理工具"
   ]
  },
  {
   "cell_type": "code",
   "execution_count": null,
   "metadata": {},
   "outputs": [],
   "source": []
  }
 ],
 "metadata": {
  "kernelspec": {
   "display_name": "Python 3",
   "language": "python",
   "name": "python3"
  },
  "language_info": {
   "codemirror_mode": {
    "name": "ipython",
    "version": 3
   },
   "file_extension": ".py",
   "mimetype": "text/x-python",
   "name": "python",
   "nbconvert_exporter": "python",
   "pygments_lexer": "ipython3",
   "version": "3.8.5"
  }
 },
 "nbformat": 4,
 "nbformat_minor": 4
}
